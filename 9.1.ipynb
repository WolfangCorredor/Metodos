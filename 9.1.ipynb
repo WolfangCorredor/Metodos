{
 "cells": [
  {
   "cell_type": "code",
   "execution_count": 4,
   "metadata": {
    "collapsed": false
   },
   "outputs": [
    {
     "name": "stdout",
     "output_type": "stream",
     "text": [
      "Ecuacion 1\n",
      "X1 =1\n",
      "X2 =2\n",
      "X3 =3\n",
      "B =4\n",
      "1.0 X1+ 2.0 X2+ 3.0 X3= 4.0\n",
      "Ecuacion 2\n",
      "X1 =1\n",
      "X2 =2\n",
      "X3 =3\n",
      "B =4\n",
      "1.0 X1+ 2.0 X2+ 3.0 X3= 4.0\n",
      "Ecuacion 3\n",
      "X1 =11\n",
      "X2 =22\n",
      "X3 =3\n",
      "B =2\n",
      "11.0 X1+ 22.0 X2+ 3.0 X3= 2.0\n",
      "\n",
      " A)FORMA MATRICIAL DEL SISTEMA DE ECUACIONES \n",
      "\n",
      "[1.0, 2.0, 3.0] \t[X1]    [4.0]\n",
      "[1.0, 2.0, 3.0] \t[X2] =  [4.0]\n",
      "[11.0, 22.0, 3.0] \t[X3]    [2.0]\n",
      "\n",
      " B) TRASPUESTA DE LA MATRIZ \n",
      "\n",
      "[1.0, 1.0, 11.0] \t[X1]    [4.0]\n",
      "[2.0, 2.0, 22.0] \t[X2] =  [4.0]\n",
      "[3.0, 3.0, 3.0] \t[X3]    [2.0]\n"
     ]
    }
   ],
   "source": [
    "from tabulate import tabulate\n",
    "matriz = [] \n",
    "matriz1 = [] \n",
    "matriz2 = [] \n",
    "matriz3 = []\n",
    "#tam = int(input(\"Tamaño Matriz:\"))\n",
    "\n",
    "def det(num1,num2,num3,num4):\n",
    "    #det=matr[]\n",
    "    num = num1*num4-num2*num3\n",
    "    return num\n",
    "def ingreso():\n",
    "    for x in range(0,3):\n",
    "        ec = x+1\n",
    "        print (\"Ecuacion %s\" %(ec))\n",
    "        matriz.append([])\n",
    "        matriz1.append([])\n",
    "        matriz2.append([])\n",
    "        matriz3.append([])\n",
    "        for y in range(0,4):\n",
    "            if y==3:\n",
    "                val = float(input(\"B =\"))\n",
    "                matriz[x].append(val)\n",
    "                matriz3[x].append(val)\n",
    "            else:\n",
    "                pos=y+1\n",
    "                val = float(input(\"X%s =\"  %(pos)))\n",
    "                matriz[x].append(val)\n",
    "                matriz1[x].append(val)\n",
    "        print matriz[x][0],\"X1+\",matriz[x][1],\"X2+\",matriz[x][2],\"X3=\",matriz[x][3]\n",
    "    \n",
    "        \n",
    "def haciaAdelante():\n",
    "\n",
    "    print trans[2],\"\\t[X3]   \", matriz3[2]       \n",
    "\n",
    "        \n",
    "\n",
    "ingreso()\n",
    "puntoa()\n",
    "puntob(matriz1)"
   ]
  },
  {
   "cell_type": "code",
   "execution_count": null,
   "metadata": {
    "collapsed": true
   },
   "outputs": [],
   "source": []
  }
 ],
 "metadata": {
  "kernelspec": {
   "display_name": "Python 2",
   "language": "python",
   "name": "python2"
  },
  "language_info": {
   "codemirror_mode": {
    "name": "ipython",
    "version": 2
   },
   "file_extension": ".py",
   "mimetype": "text/x-python",
   "name": "python",
   "nbconvert_exporter": "python",
   "pygments_lexer": "ipython2",
   "version": "2.7.11"
  }
 },
 "nbformat": 4,
 "nbformat_minor": 0
}
