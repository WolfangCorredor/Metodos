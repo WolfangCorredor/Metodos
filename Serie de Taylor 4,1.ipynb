{
 "cells": [
  {
   "cell_type": "code",
   "execution_count": null,
   "metadata": {
    "collapsed": true
   },
   "outputs": [],
   "source": [
    "import math\n",
    "from tabulate import tabulate\n",
    "\n",
    "x=0\n",
    "h=1\n",
    "funcionA=[]\n",
    "tab=[]\n",
    "valor=0.0\n",
    "valorAnt=[]\n",
    "valorAprox=[]\n",
    "Ea=[]\n",
    "aux=[]\n",
    "Ev=[]\n",
    "Epv=[]\n",
    "x1=1\n",
    "Erpv=0.0\n",
    "fx=-0.1*math.pow(x1,4)-0.15*math.pow(x1,3)-0.5*math.pow(x1,2)-0.25*x1+1.2\n",
    "print \"Cuando x=1 -> f(1)=%.1f\"%fx+\"\\n\"\n",
    "\n",
    "f=-0.1*math.pow(x,4)-0.15*math.pow(x,3)-0.5*math.pow(x,2)-0.25*x+1.2\n",
    "f1=(4*(-0.1)*math.pow(x,3))-(3*0.15*math.pow(x,2))-(2*0.5*x)-(0.25)\n",
    "f2=12*(-0.1)*math.pow(x,2)-6*0.15*x-2*0.5\n",
    "f3=24*(-0.1)*x-6*0.15\n",
    "f4=24*(-0.1)\n",
    "funcionA.append(f)\n",
    "funcionA.append(f1)\n",
    "funcionA.append(f2)\n",
    "funcionA.append(f3)\n",
    "funcionA.append(f4)\n",
    "\n",
    "for i in range(0,5):\n",
    "    value=funcionA[i]*math.pow(h,i)/math.factorial(i)\n",
    "    valueAnt=valor\n",
    "    aux1=value\n",
    "    aux.append(aux1)\n",
    "    valorAnt.append(valueAnt)\n",
    "    valor+=value\n",
    "    valorAprox.append(valor)\n",
    "    Ever=math.fabs(fx-valorAprox[i])\n",
    "    Ev.append(Ever)\n",
    "    Erpv=math.fabs((Ev[i]/fx)*100)\n",
    "    Epv.append(Erpv)\n",
    "    Eaprx=math.fabs(((valorAprox[i]-valorAnt[i])/valorAprox[i])*100)\n",
    "    Ea.append(Eaprx)\n",
    "        \n",
    "for j in range(0,5):\n",
    "    tab.append([j, funcionA[j], aux[j], valorAprox[j],Ev[j], Ea[j], Epv[j]])\n",
    "    \n",
    "print tabulate(tab, headers=[\"Orden\",\"f(x) derivada manual\", \"Taylor termino a termino\", \"f(Xi+1) por Taylor\", \"Err Verd\", \"Err Aprox\", \"Err RelPorcVerd\"])"
   ]
  }
 ],
 "metadata": {
  "kernelspec": {
   "display_name": "Python 2",
   "language": "python",
   "name": "python2"
  },
  "language_info": {
   "codemirror_mode": {
    "name": "ipython",
    "version": 2
   },
   "file_extension": ".py",
   "mimetype": "text/x-python",
   "name": "python",
   "nbconvert_exporter": "python",
   "pygments_lexer": "ipython2",
   "version": "2.7.11"
  }
 },
 "nbformat": 4,
 "nbformat_minor": 0
}
