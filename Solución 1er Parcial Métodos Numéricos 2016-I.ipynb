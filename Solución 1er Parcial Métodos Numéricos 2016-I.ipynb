{
 "cells": [
  {
   "cell_type": "markdown",
   "metadata": {},
   "source": [
    "## Solución 1er Parcial de Métodos Numéricos 2016-I"
   ]
  },
  {
   "cell_type": "markdown",
   "metadata": {},
   "source": [
    "**1. Es una característica de los métodos numéricos.**\n",
    "\n",
    "    A. Son exactos\n",
    "    B. Solo se pueden resolver de forma analítica\n",
    "    C. Requieren de un buen número de tediosos cálculos aritméticos\n",
    "    D. No tienen solución\n",
    "    E. Ninguna de las anteriores\n",
    "\n",
    "_Rta:_\n",
    "\n",
    "    C. Requieren de un buen número de tediosos cálculos aritméticos"
   ]
  },
  {
   "cell_type": "markdown",
   "metadata": {},
   "source": [
    "**2. Si se tiene la velocidad de un automovil de 98.8642138 km/h y se requiere que el velocimetro use solamente cinco cifras significativas, ¿Qué valor debería mostrar?**\n",
    "\n",
    "    A. 98.8642138\n",
    "    B. 98.87\n",
    "    C. 98.864\n",
    "    D. 98.8642\n",
    "    E. 98.86421\n",
    "\n",
    "_Rta:_\n",
    "\n",
    "    C. 98.864"
   ]
  },
  {
   "cell_type": "markdown",
   "metadata": {},
   "source": [
    "**3. La definición de error relativo porcentual verdadero es:**\n",
    "    \n",
    "    A. ( ( valor verdadero - valor aproximado ) / valor verdadero ) x 100\n",
    "    B. aprox. actual - aprox. anterior\n",
    "    C. ( ( aprox. actual - aprox. anterior ) / aprox. actual ) x 100\n",
    "    D. valor verdadero - valor aproximado\n",
    "    E. Ninguna de las anteriores\n",
    "\n",
    "_Rta:_\n",
    "\n",
    "    A. ( ( valor verdadero - valor aproximado ) / valor verdadero ) x 100"
   ]
  },
  {
   "cell_type": "markdown",
   "metadata": {},
   "source": [
    "**4. Si se representa la cantidad de bacterias en notación científica $82.710 \\times 10^6$, ¿Cúal es el número de cifras significativas?**\n",
    "\n",
    "    A. 3\n",
    "    B. 6\n",
    "    C. 5\n",
    "    D. 2\n",
    "    E. 10\n",
    "\n",
    "_Rta:_\n",
    "\n",
    "    C. 5"
   ]
  },
  {
   "cell_type": "markdown",
   "metadata": {},
   "source": [
    "**5. Si el valor verdadero es 43.4322629 y el valor aproximado es 43.02498, ¿Cúal es el el Error Verdadero?**\n",
    "\n",
    "    A. 0.9377427580454216\n",
    "    B. 0.40728289999999845\n",
    "    C. 5.934016903777434\n",
    "    D. -0.40728289999999845\n",
    "    E. 0.009377427580454217\n",
    "\n",
    "_Rta:_\n",
    "\n",
    "    B. 0.40728289999999845"
   ]
  },
  {
   "cell_type": "code",
   "execution_count": 1,
   "metadata": {
    "collapsed": false
   },
   "outputs": [
    {
     "name": "stdout",
     "output_type": "stream",
     "text": [
      "0.40728289999999845\n"
     ]
    }
   ],
   "source": [
    "Et = 43.4322629-43.02498 # Et = valor verdadero - valor aproximado\n",
    "print(Et)"
   ]
  },
  {
   "cell_type": "markdown",
   "metadata": {},
   "source": [
    "**6. Para e = 2.718281828459045090795598298427648842334747314453125..., ¿Cúal es la aproximación usando 5 cifras significativas?**\n",
    "\n",
    "    A. 2.7180\n",
    "    B. 2.7182\n",
    "    C. 2.7183\n",
    "    D. 2.718282\n",
    "    E. 2.71828\n",
    "\n",
    "_Rta:_\n",
    "\n",
    "    B. 2.7182"
   ]
  },
  {
   "cell_type": "markdown",
   "metadata": {},
   "source": [
    "**7. De acuerdo con la definición de la derivada centrada y para $f(x) = 4x^4 - 2x^2 + 7x$, ¿Cúal seria el calculo de la primera derivada dado que $x_{i-1} = 0$, $x_{i} = 0.1$, $x_{i+1} = 0.2$?**\n",
    "\n",
    "    A. 6.632\n",
    "    B. 6.666\n",
    "    C. 6.616\n",
    "    D. 0.6804\n",
    "    E. 6\n",
    "\n",
    "_Rta:_\n",
    "\n",
    "    A. 6.632"
   ]
  },
  {
   "cell_type": "code",
   "execution_count": 2,
   "metadata": {
    "collapsed": false
   },
   "outputs": [
    {
     "name": "stdout",
     "output_type": "stream",
     "text": [
      "6.632\n"
     ]
    }
   ],
   "source": [
    "def f(x):\n",
    "    return 4*x**4 - 2*x**2 + 7*x\n",
    "\n",
    "def deriv_centrada(x,h):\n",
    "    fdev = ((f(x+h) - f(x-h))/(2*h))\n",
    "    return fdev\n",
    "\n",
    "print(deriv_centrada(0.1,0.1))"
   ]
  },
  {
   "cell_type": "markdown",
   "metadata": {},
   "source": [
    "**8. De acuerdo con la definición del criterio del error: $Es = (0.5 \\times 10^{2-n})\\%$. ¿Cúal es el porcentaje de error tolerado para 4 cifras significativas?**\n",
    "\n",
    "    A. 0.00005\n",
    "    B. 0.0005\n",
    "    C. 0.005\n",
    "    D. 0.05\n",
    "    E. 0.5\n",
    "\n",
    "_Rta:_\n",
    "\n",
    "    C. 0.005"
   ]
  },
  {
   "cell_type": "code",
   "execution_count": 3,
   "metadata": {
    "collapsed": false
   },
   "outputs": [
    {
     "name": "stdout",
     "output_type": "stream",
     "text": [
      "0.005%\n"
     ]
    }
   ],
   "source": [
    "n = 4\n",
    "Es = (0.5 * 10 **(2-n))#%\n",
    "\n",
    "print(str(Es)+'%')"
   ]
  },
  {
   "cell_type": "markdown",
   "metadata": {},
   "source": [
    "**9. Dada la función $f(x) = sen(3x) + x^2$, ¿Cúales son los valores de las aproximaciones de las derivadas hacia atras, hacia adelante y centrada para $x_{i} = 0.5$ y $h = 0.25$?**\n",
    "\n",
    "    A. 1.21168, 2.01342, 1.19287\n",
    "    B. 1.19287, 2.01342, 0.37231\n",
    "    C. 0.37231, 2.01342, 1.19287\n",
    "    D. 2.01342, 0.37231, 1.19287\n",
    "    E. 2.01342, 0.37231, 1.21168\n",
    "\n",
    "_Rta:_\n",
    "\n",
    "    D. 2.01342, 0.37231, 1.19287"
   ]
  },
  {
   "cell_type": "code",
   "execution_count": 4,
   "metadata": {
    "collapsed": false
   },
   "outputs": [
    {
     "name": "stdout",
     "output_type": "stream",
     "text": [
      "2.01342490632, 0.372312841135, 1.19286887373\n"
     ]
    }
   ],
   "source": [
    "import numpy as np\n",
    "\n",
    "def f(x):\n",
    "    return (np.sin(3*x) + x**2) \n",
    "\n",
    "def deriv_adelante(x,h):\n",
    "    fdev = (f(x+h)-f(x))/h\n",
    "    return fdev\n",
    "\n",
    "def deriv_atras(x,h):\n",
    "    fdev = (f(x)-f(x-h))/h\n",
    "    return fdev\n",
    "\n",
    "def deriv_centrada(x,h):\n",
    "    fdev = ((f(x+h) - f(x-h))/(2*h))\n",
    "    return fdev\n",
    "\n",
    "x = 0.5\n",
    "h = 0.25\n",
    "print(str(deriv_atras(x,h))+', '+str(deriv_adelante(x,h))+', '+str(deriv_centrada(x,h)))"
   ]
  },
  {
   "cell_type": "markdown",
   "metadata": {},
   "source": [
    "**10. Dada la función $f(x) = x^3$, ¿Cúal es el valor real y la aproximación de la serie de Taylor de primer orden para $h = 0.125$, cuando se evalua para ambas (función y aproximación) en $x + h$, donde $x = 1$?**\n",
    "\n",
    "    A. 1.423828125 y 0.95703125\n",
    "    B. 1.423828125 y 1.375\n",
    "    C. 3.375 y 2.5\n",
    "    D. 0.001953125 y 0\n",
    "    E. 1.423828125 y 1.8984375\n",
    "\n",
    "_Rta:_\n",
    "\n",
    "    B. 1.423828125 y 1.375"
   ]
  },
  {
   "cell_type": "code",
   "execution_count": 5,
   "metadata": {
    "collapsed": false
   },
   "outputs": [
    {
     "name": "stdout",
     "output_type": "stream",
     "text": [
      "funcion =  1.423828125\n",
      "Aprox taylor =  1.375\n"
     ]
    }
   ],
   "source": [
    "def f1(x):\n",
    "    return x**3\n",
    "\n",
    "def f2(x):\n",
    "    return 3*(x**2)\n",
    "\n",
    "x = 1.0\n",
    "h = 0.125\n",
    "\n",
    "print(\"funcion = \",f1(x+h))\n",
    "print(\"Aprox taylor = \",f1(x)+f2(x)*h)"
   ]
  },
  {
   "cell_type": "markdown",
   "metadata": {},
   "source": [
    "**11. Es un método numérico para hallar la raíz de una función.**\n",
    "\n",
    "    A. Falsa posición\n",
    "    B. Taylor\n",
    "    C. Primer orden\n",
    "    D. Logarítmico\n",
    "    E. Ninguna de las anteriores\n",
    "\n",
    "_Rta:_\n",
    "\n",
    "    A. Falsa posición"
   ]
  },
  {
   "cell_type": "markdown",
   "metadata": {},
   "source": [
    "**12. Dada la función $f(x) = -x^2 + 1.8x + 2.5$, ¿Cúal es el valor de la raíz usando el método de punto fijo en la iteración 5 iniciando con $x_{0} = -2$?**\n",
    "\n",
    "    A. -0.826356\n",
    "    B. -1\n",
    "    C. -1.006260\n",
    "    D. -0.829899\n",
    "    E. -1.003086\n",
    "\n",
    "_Rta:_\n",
    "\n",
    "    A. -0.826356"
   ]
  },
  {
   "cell_type": "code",
   "execution_count": 6,
   "metadata": {
    "collapsed": false
   },
   "outputs": [
    {
     "name": "stdout",
     "output_type": "stream",
     "text": [
      "Iteración: 5 Raiz (punto fijo): -0.826356\n"
     ]
    }
   ],
   "source": [
    "def f(x):\n",
    "    fval = -x**2+1.8*x+2.5\n",
    "    return fval\n",
    "\n",
    "def g(xold):\n",
    "    xnew = (xold**2-2.5)/1.8\n",
    "    return xnew\n",
    "\n",
    "nit = 5\n",
    "\n",
    "it = 0\n",
    "xi = -2\n",
    "while it<=nit:\n",
    "    if it == nit:\n",
    "        print('Iteración: '+str(it)+' Raiz (punto fijo): '+str(round(xi,6)))\n",
    "    xold = xi\n",
    "    xi = g(xi)\n",
    "    it=it+1"
   ]
  },
  {
   "cell_type": "markdown",
   "metadata": {},
   "source": [
    "**13. Dada la función $f(x) = -x^2 + 1.8x + 2.5$, ¿Cúal es el valor de la raíz usando el método de Newton-Raphson en la iteración 5 iniciando con $x_{0} = -2$?**\n",
    "\n",
    "    A. -1.120690\n",
    "    B. -1\n",
    "    C. -0.919341\n",
    "    D. -0.826356\n",
    "    E. -1.003086\n",
    "    \n",
    "_Rta:_\n",
    "\n",
    "    C. -0.919341"
   ]
  },
  {
   "cell_type": "code",
   "execution_count": 7,
   "metadata": {
    "collapsed": false
   },
   "outputs": [
    {
     "name": "stdout",
     "output_type": "stream",
     "text": [
      "Iteración: 5 Raiz (Newton-Raphson): -0.919341\n"
     ]
    }
   ],
   "source": [
    "def f(x):\n",
    "    fval = -x**2+1.8*x+2.5\n",
    "    return fval\n",
    "\n",
    "def fd(x):\n",
    "    fdval = -2*x+1.8\n",
    "    if fdval == 0:\n",
    "        fdval = 1.0*10**(-9)\n",
    "    return fdval\n",
    "\n",
    "nit = 5\n",
    "it = 0\n",
    "xi = -2\n",
    "\n",
    "while it<=nit:\n",
    "    xold = xi   \n",
    "    if it == nit:\n",
    "        print('Iteración: '+str(it)+' Raiz (Newton-Raphson): '+str(round(xi,6)))\n",
    "    xi = xi-(f(xi)/fd(xi))\n",
    "    if xi==0:\n",
    "        xi=1.0*10**(-9)\n",
    "    it=it+1"
   ]
  },
  {
   "cell_type": "markdown",
   "metadata": {},
   "source": [
    "**14. Dada la función $f(x) = -x^2 + 1.8x + 2.5$, ¿Cúal es el valor de la raíz usando el método de la Secante en la iteración 5 iniciando con $x_{0} = -2$ y $x_{-1}=0$?**\n",
    "\n",
    "    A. -1.0\n",
    "    B. -0.6578947368421053\n",
    "    C. -1.0062607474920274\n",
    "    D. -0.9193404183962031\n",
    "    E. -0.9999999999996789\n",
    "    \n",
    "_Rta:_\n",
    "\n",
    "    D. -0.9193404183962031"
   ]
  },
  {
   "cell_type": "code",
   "execution_count": 8,
   "metadata": {
    "collapsed": false
   },
   "outputs": [
    {
     "name": "stdout",
     "output_type": "stream",
     "text": [
      "Iteración: 5 Raiz (Secante): -0.9193404183962031\n"
     ]
    }
   ],
   "source": [
    "def f(x):\n",
    "    fval = -x**2+1.8*x+2.5\n",
    "    return fval\n",
    "\n",
    "def fdaprox(xi,xiant):\n",
    "    fdval = (f(xiant)-f(xi))/(xiant-xi)\n",
    "    return fdval\n",
    "\n",
    "nit = 5\n",
    "it = 0\n",
    "xi = -2\n",
    "xold = 0\n",
    "\n",
    "while (it<=nit):\n",
    "    if it == nit:\n",
    "        print('Iteración: '+str(it)+' Raiz (Secante): '+str(xi))\n",
    "    xant = xi\n",
    "    xi = xi-(f(xi)/fdaprox(xi,xold))\n",
    "    xold = xant\n",
    "    it=it+1"
   ]
  },
  {
   "cell_type": "markdown",
   "metadata": {},
   "source": [
    "**15. Sea $f(x_{i+1}) = f(x_{i}) + f'(x_{i})*h + ((f\"(x_{i}))/2!)*h^2$, ¿A cúal definición de la aproximación de la serie de Taylor corresponde?**\n",
    "\n",
    "    A. Primer orden\n",
    "    B. Orden cero\n",
    "    C. Tercer orden\n",
    "    D. Segundo orden\n",
    "    E. Cuarto orden\n",
    "    \n",
    "_Rta:_\n",
    "\n",
    "    D. Segundo orden"
   ]
  }
 ],
 "metadata": {
  "kernelspec": {
   "display_name": "Python 3",
   "language": "python",
   "name": "python3"
  },
  "language_info": {
   "codemirror_mode": {
    "name": "ipython",
    "version": 3
   },
   "file_extension": ".py",
   "mimetype": "text/x-python",
   "name": "python",
   "nbconvert_exporter": "python",
   "pygments_lexer": "ipython3",
   "version": "3.4.3"
  }
 },
 "nbformat": 4,
 "nbformat_minor": 0
}
