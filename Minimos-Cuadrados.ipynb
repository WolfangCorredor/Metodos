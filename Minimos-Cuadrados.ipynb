{
 "cells": [
  {
   "cell_type": "code",
   "execution_count": 1,
   "metadata": {
    "collapsed": false
   },
   "outputs": [
    {
     "name": "stdout",
     "output_type": "stream",
     "text": [
      "La sumatoria de xi:  28\n",
      "La sumatoria de yi:  24.0\n",
      "La media de xi es:  4\n",
      "La media de yi es:  3.42857142857\n",
      "Sumatoria de producto:  119.5\n",
      "sumatoria de cuadrado de xi:  140.0\n",
      "La solucion de a1:  0.839285714286\n",
      "La solucion de a0:  0.0714285714286\n"
     ]
    },
    {
     "data": {
      "image/png": "[encoded data removed]",
      "text/plain": [
       "<matplotlib.figure.Figure at 0xa49bf28>"
      ]
     },
     "metadata": {},
     "output_type": "display_data"
    },
    {
     "name": "stdout",
     "output_type": "stream",
     "text": [
      "|   xi |   yi |   (yi-mediaY)^2 |   (yi-a0-a1*xi)^2 |\n",
      "|-----:|-----:|----------------:|------------------:|\n",
      "|    1 |  0.5 |      8.57653    |          0.168686 |\n",
      "|    2 |  2.5 |      0.862245   |          0.5625   |\n",
      "|    3 |  2   |      2.04082    |          0.347258 |\n",
      "|    4 |  4   |      0.326531   |          0.326531 |\n",
      "|    5 |  3.5 |      0.00510204 |          0.589605 |\n",
      "|    6 |  6   |      6.61224    |          0.797194 |\n",
      "|    7 |  5.5 |      4.29082    |          0.199298 |\n"
     ]
    }
   ],
   "source": [
    "import math\n",
    "import matplotlib.pyplot as plt\n",
    "from tabulate import tabulate \n",
    "%matplotlib inline\n",
    "\n",
    "xi, yi, dif, minimos,function,valores, tabla=[1,2,3,4,5,6,7],[0.5,2.5,2.0,4.0,3.5,6.0,5.5],[],[],[],[],[]\n",
    "n, sumaX,sumaY,sumPro,cuadrado=len(xi),0,0,0,0\n",
    "#media de xi y yi\n",
    "for i in range(n):\n",
    "    sumaX+=xi[i]\n",
    "    sumaY+=yi[i] \n",
    "    cuadrado+=math.pow(xi[i],2)\n",
    "    sumPro+=xi[i]*yi[i]\n",
    "    \n",
    "print (\"La sumatoria de xi: \"), sumaX\n",
    "print (\"La sumatoria de yi: \"), sumaY\n",
    "print (\"La media de xi es: \"), sumaX/len(xi)\n",
    "print (\"La media de yi es: \"), sumaY/len(yi)\n",
    "print (\"Sumatoria de producto: \"), sumPro\n",
    "print (\"sumatoria de cuadrado de xi: \"), cuadrado\n",
    "\n",
    "#calcular a1\n",
    "a1=((n*sumPro)-(sumaX*sumaY))/((n*cuadrado)-(math.pow(sumaX,2)))\n",
    "a0=(sumaY/len(yi))-(a1*(sumaX/len(xi)))\n",
    "print (\"La solucion de a1: \"),a1\n",
    "print (\"La solucion de a0: \"),a0\n",
    "#ultima columna\n",
    "for j in range(n):\n",
    "    aux=math.pow((yi[j]-(sumaY/len(yi))),2)\n",
    "    dif.append(aux)\n",
    "    min=math.pow((yi[j]-a0-(a1*xi[j])),2)\n",
    "    minimos.append(min)\n",
    "\n",
    "for k in range(0,n+1):\n",
    "    funcion=a0+(a1*k)\n",
    "    function.append(funcion)\n",
    "    valores.append(k)\n",
    "\n",
    "for l in range (n):\n",
    "    tabla.append([xi[l],yi[l],dif[l],minimos[l]])\n",
    "\n",
    "plt.title(\"Regresion por minimos cuadrados\")\n",
    "plt.grid(True)\n",
    "plt.axis([0,10,0,7])\n",
    "plt.ylabel('Ajuste por minimos cuadrados')\n",
    "plt.xlabel('x')\n",
    "plt.plot(xi, yi, 'ro', label=\"Valores iniciales\")\n",
    "plt.plot(valores, function, 'b--', linewidth=2.0, label=\"y=0,07142857+0,8392857x\")\n",
    "plt.legend(loc = 'lower right', numpoints = 2)\n",
    "plt.show()\n",
    "\n",
    "print tabulate(tabla,headers=[\"xi\",\"yi\", \"(yi-mediaY)^2\", \"(yi-a0-a1*xi)^2\"],tablefmt=\"pipe\")"
   ]
  },
  {
   "cell_type": "code",
   "execution_count": null,
   "metadata": {
    "collapsed": true
   },
   "outputs": [],
   "source": []
  }
 ],
 "metadata": {
  "kernelspec": {
   "display_name": "Python 2",
   "language": "python",
   "name": "python2"
  },
  "language_info": {
   "codemirror_mode": {
    "name": "ipython",
    "version": 2
   },
   "file_extension": ".py",
   "mimetype": "text/x-python",
   "name": "python",
   "nbconvert_exporter": "python",
   "pygments_lexer": "ipython2",
   "version": "2.7.11"
  }
 },
 "nbformat": 4,
 "nbformat_minor": 0
}
