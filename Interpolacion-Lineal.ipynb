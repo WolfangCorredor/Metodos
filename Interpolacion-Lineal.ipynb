{
 "cells": [
  {
   "cell_type": "code",
   "execution_count": 2,
   "metadata": {
    "collapsed": false
   },
   "outputs": [
    {
     "name": "stdout",
     "output_type": "stream",
     "text": [
      "\n",
      "X a evaluar en la funcion Ln(x): 2\n",
      "\n",
      "Valor de x0: 1\n",
      "\n",
      "Valor de x1: 4\n",
      "El valor real de Ln(2)= 0.69314718\n",
      "\n",
      "INTERPOLACIÓN LINEAL:\n",
      "\n",
      "Con una interpolación desde x0=1 hasta x1=4, se obtiene: 0.4620981 . Que representa un error del 33.3    \n"
     ]
    },
    {
     "data": {
      "image/png": "[encoded data removed]",
      "text/plain": [
       "<matplotlib.figure.Figure at 0x70362e8>"
      ]
     },
     "metadata": {},
     "output_type": "display_data"
    }
   ],
   "source": [
    "import math\n",
    "import matplotlib.pyplot as plt\n",
    "%matplotlib inline \n",
    "\n",
    "vec1A,vec1B,function,equis,coef=[],[],[],[],[]\n",
    "\n",
    "valor=int((raw_input(\"\\nX a evaluar en la funcion Ln(x): \")))\n",
    "pto0=int((raw_input(\"\\nValor de x0: \")))\n",
    "pto1=int((raw_input(\"\\nValor de x1: \")))\n",
    "\n",
    "if(valor>0):\n",
    "    real=math.log(valor)\n",
    "\n",
    "    def funcion(num):\n",
    "        value=math.log(num)\n",
    "        return value\n",
    "\n",
    "    def evaluar(x1, x0):\n",
    "        fx= funcion(x0)+((funcion(x1)-funcion(x0))/(x1-x0))*(valor-x0)\n",
    "        return fx\n",
    "\n",
    "    def error(apr):\n",
    "        if(valor!=1):\n",
    "            Et=math.fabs((real-apr)/real*100)\n",
    "            return Et\n",
    "        else:\n",
    "            Et=0\n",
    "            return Et\n",
    "\n",
    "    def vectores():\n",
    "        i=1\n",
    "        vec1A.append(pto0)\n",
    "        vec1A.append(pto1)\n",
    "        vec1B.append(funcion(pto0))\n",
    "        vec1B.append(funcion(pto1))\n",
    "        while(i<=20):\n",
    "            function.append(funcion(i))\n",
    "            equis.append(i)\n",
    "            i+=0.1\n",
    "\n",
    "    print \"El valor real de Ln(%d)= %.8f\"%(valor,real)\n",
    "    print \"\\nINTERPOLACIÓN LINEAL:\\n\"\n",
    "    print \"Con una interpolación desde x0=%d hasta x1=%d, se obtiene: %.7f . Que representa un error del %.1f\\\n",
    "    \" %(pto0,pto1,evaluar(pto1,pto0), error(evaluar(pto1,pto0)))\n",
    "    #print \"Con una interpolación desde x0=1 hasta x1=4, se obtiene: %.7f . Que representa un error del %.1f\\\n",
    "    #\" %(evaluar(4,1), error(evaluar(4,1)))\n",
    "\n",
    "    vectores()\n",
    "\n",
    "    plt.title(\"Interpolacion Lineal\")\n",
    "    plt.axis([0,10,0,2.5])\n",
    "    plt.grid(True)\n",
    "    plt.ylabel('f(x)')\n",
    "    plt.xlabel('x')\n",
    "    plt.plot(valor,real, 'mo',linewidth=3.0, label=\"Valor Verdadero\")\n",
    "    plt.plot(vec1A,vec1B, 'b-',linewidth=2.0, label=\"Estimacion Lineal\")\n",
    "    #plt.plot(vec2A,vec2B, 'g-',linewidth=2.0, label=\"Estimacion 2\")\n",
    "    plt.plot(equis,function, 'r-',linewidth=2.0, label=\"Ln(x)\")\n",
    "    plt.legend(loc = 'lower right', numpoints = 1)\n",
    "    plt.show()\n",
    "else:\n",
    "    print \"ERROR. Ingrese un valor para X mayor a 0. \""
   ]
  },
  {
   "cell_type": "code",
   "execution_count": null,
   "metadata": {
    "collapsed": true
   },
   "outputs": [],
   "source": []
  }
 ],
 "metadata": {
  "kernelspec": {
   "display_name": "Python 2",
   "language": "python",
   "name": "python2"
  },
  "language_info": {
   "codemirror_mode": {
    "name": "ipython",
    "version": 2
   },
   "file_extension": ".py",
   "mimetype": "text/x-python",
   "name": "python",
   "nbconvert_exporter": "python",
   "pygments_lexer": "ipython2",
   "version": "2.7.11"
  }
 },
 "nbformat": 4,
 "nbformat_minor": 0
}
