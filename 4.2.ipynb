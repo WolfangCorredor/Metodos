{
 "cells": [
  {
   "cell_type": "code",
   "execution_count": 1,
   "metadata": {
    "collapsed": false
   },
   "outputs": [
    {
     "name": "stdout",
     "output_type": "stream",
     "text": [
      "f(x) = cos(x)\n",
      "CON x = pi/3\n",
      "f(pi/3) = 0.5\n",
      "\n",
      "  Orden  Derivada n de f(x)        f(pi/3)  Error relativo porcentual verdadero\n",
      "-------  --------------------  -----------  -------------------------------------\n",
      "      0  cos(x)                0.707106781  41.4213562373%\n",
      "      1  -sen(x)               0.521986659  4.39733175266%\n",
      "      2  -cos(x)               0.497754491  0.449101719315%\n",
      "      3  sen(x)                0.499869147  0.0261706139912%\n",
      "      4  cos(x)                0.500007551  0.00151016212255%\n",
      "      5  -sen(x)               0.500000304  6.08000744862e-05%\n",
      "      6  -cos(x)               0.499999988  2.44027499319e-06%\n"
     ]
    }
   ],
   "source": [
    "import math\n",
    "from tabulate import tabulate\n",
    "\n",
    "suma=0.0\n",
    "tab=[]\n",
    "derivadas=[\"cos(x)\", \"-sen(x)\", \"-cos(x)\", \"sen(x)\",\"cos(x)\", \"-sen(x)\", \"-cos(x)\"]\n",
    "\n",
    "x=math.degrees(math.pi/3)\n",
    "cos=math.cos(math.radians(x))\n",
    "xi=math.degrees(math.pi/4)\n",
    "h=math.pi/12\n",
    "\n",
    "\n",
    "print \"f(x) = cos(x)\\nCON x = pi/3\\nf(pi/3) = %.1f\\n\"%cos\n",
    "\n",
    "for i in range(0,7):\n",
    "    if(i==0 or i==4):\n",
    "        suma+=(math.cos(math.radians(xi))*math.pow(h,i))/math.factorial(i)\n",
    "    if(i==1 or i==5):\n",
    "        suma+=-(math.sin(math.radians(xi))*math.pow(h,i))/math.factorial(i)\n",
    "    if(i==2 or i==6):\n",
    "        suma+=-(math.cos(math.radians(xi))*math.pow(h,i))/math.factorial(i)\n",
    "    if(i==3):\n",
    "        suma+=(math.sin(math.radians(xi))*math.pow(h,i))/math.factorial(i)\n",
    "    Erpv=math.fabs(((cos-suma)/cos)*100)\n",
    "    tab.append([i,derivadas[i], suma, str(Erpv)+\"%\"])\n",
    "    \n",
    "print tabulate(tab, headers=[\"Orden\", \"Derivada n de f(x)\", \"f(pi/3)\", \"Error relativo porcentual verdadero\"],floatfmt=\".9f\")"
   ]
  },
  {
   "cell_type": "code",
   "execution_count": null,
   "metadata": {
    "collapsed": true
   },
   "outputs": [],
   "source": []
  }
 ],
 "metadata": {
  "kernelspec": {
   "display_name": "Python 2",
   "language": "python",
   "name": "python2"
  },
  "language_info": {
   "codemirror_mode": {
    "name": "ipython",
    "version": 2
   },
   "file_extension": ".py",
   "mimetype": "text/x-python",
   "name": "python",
   "nbconvert_exporter": "python",
   "pygments_lexer": "ipython2",
   "version": "2.7.11"
  }
 },
 "nbformat": 4,
 "nbformat_minor": 0
}
